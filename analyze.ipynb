{
 "metadata": {
  "language_info": {
   "codemirror_mode": {
    "name": "ipython",
    "version": 3
   },
   "file_extension": ".py",
   "mimetype": "text/x-python",
   "name": "python",
   "nbconvert_exporter": "python",
   "pygments_lexer": "ipython3",
   "version": "3.6.9-final"
  },
  "orig_nbformat": 2,
  "kernelspec": {
   "name": "python3",
   "display_name": "Python 3.6.9 64-bit ('venv')",
   "metadata": {
    "interpreter": {
     "hash": "cdee320d0c523a073660c1d36ddb2c472f31732f5be617c276c68b6872129114"
    }
   }
  }
 },
 "nbformat": 4,
 "nbformat_minor": 2,
 "cells": [
  {
   "cell_type": "code",
   "execution_count": 4,
   "metadata": {},
   "outputs": [],
   "source": [
    "import configparser\n",
    "import numpy as np\n",
    "import pandas as pd\n",
    "import tasks.models as m\n",
    "\n",
    "from sqlalchemy import create_engine, func, distinct\n",
    "from sqlalchemy.orm import Session\n",
    "import redis"
   ]
  },
  {
   "cell_type": "code",
   "execution_count": 5,
   "metadata": {},
   "outputs": [],
   "source": [
    "config = configparser.ConfigParser()\n",
    "config.read(\"config/config.ini\")\n",
    "\n",
    "engine = create_engine(config[\"DB\"].get(\"db_url\"))\n",
    "session = Session(engine)\n",
    "\n",
    "r = redis.Redis(\n",
    "    host=config[\"REDIS\"].get(\"host\"),\n",
    "    port=config[\"REDIS\"].get(\"port\"),\n",
    "    db=config[\"REDIS\"].get(\"db\"),\n",
    ")"
   ]
  },
  {
   "cell_type": "code",
   "execution_count": 6,
   "metadata": {},
   "outputs": [
    {
     "output_type": "execute_result",
     "data": {
      "text/plain": [
       "         userID        subredditID  rating\n",
       "0      101stexi               guns       1\n",
       "1      101stexi                MTB       1\n",
       "2      101stexi           crossfit       1\n",
       "3        102kp8  PropagandaPosters       1\n",
       "4        102kp8  PropagandaPosters       1\n",
       "...         ...                ...     ...\n",
       "31653   zx4mnmk        Supplements       1\n",
       "31654   zx4mnmk         Nootropics       1\n",
       "31655   zx4mnmk         Nootropics       1\n",
       "31656   zx4mnmk        Supplements       1\n",
       "31657   zx4mnmk         Meditation       1\n",
       "\n",
       "[31658 rows x 3 columns]"
      ],
      "text/html": "<div>\n<style scoped>\n    .dataframe tbody tr th:only-of-type {\n        vertical-align: middle;\n    }\n\n    .dataframe tbody tr th {\n        vertical-align: top;\n    }\n\n    .dataframe thead th {\n        text-align: right;\n    }\n</style>\n<table border=\"1\" class=\"dataframe\">\n  <thead>\n    <tr style=\"text-align: right;\">\n      <th></th>\n      <th>userID</th>\n      <th>subredditID</th>\n      <th>rating</th>\n    </tr>\n  </thead>\n  <tbody>\n    <tr>\n      <th>0</th>\n      <td>101stexi</td>\n      <td>guns</td>\n      <td>1</td>\n    </tr>\n    <tr>\n      <th>1</th>\n      <td>101stexi</td>\n      <td>MTB</td>\n      <td>1</td>\n    </tr>\n    <tr>\n      <th>2</th>\n      <td>101stexi</td>\n      <td>crossfit</td>\n      <td>1</td>\n    </tr>\n    <tr>\n      <th>3</th>\n      <td>102kp8</td>\n      <td>PropagandaPosters</td>\n      <td>1</td>\n    </tr>\n    <tr>\n      <th>4</th>\n      <td>102kp8</td>\n      <td>PropagandaPosters</td>\n      <td>1</td>\n    </tr>\n    <tr>\n      <th>...</th>\n      <td>...</td>\n      <td>...</td>\n      <td>...</td>\n    </tr>\n    <tr>\n      <th>31653</th>\n      <td>zx4mnmk</td>\n      <td>Supplements</td>\n      <td>1</td>\n    </tr>\n    <tr>\n      <th>31654</th>\n      <td>zx4mnmk</td>\n      <td>Nootropics</td>\n      <td>1</td>\n    </tr>\n    <tr>\n      <th>31655</th>\n      <td>zx4mnmk</td>\n      <td>Nootropics</td>\n      <td>1</td>\n    </tr>\n    <tr>\n      <th>31656</th>\n      <td>zx4mnmk</td>\n      <td>Supplements</td>\n      <td>1</td>\n    </tr>\n    <tr>\n      <th>31657</th>\n      <td>zx4mnmk</td>\n      <td>Meditation</td>\n      <td>1</td>\n    </tr>\n  </tbody>\n</table>\n<p>31658 rows × 3 columns</p>\n</div>"
     },
     "metadata": {},
     "execution_count": 6
    }
   ],
   "source": [
    "s = (\n",
    "    session.query(m.Redditor_Subreddit_Comment.redditor_id)\n",
    "    .group_by(m.Redditor_Subreddit_Comment.redditor_id)\n",
    "    .having(func.count(m.Redditor_Subreddit_Comment.subreddit_id.distinct()) > 2)\n",
    "    .subquery()\n",
    ")\n",
    "redditor_subreddit_comment = np.array(\n",
    "    session.query(m.Redditor_Subreddit_Comment.redditor_id, m.Subreddit.name)\n",
    "    .filter(m.Redditor_Subreddit_Comment.redditor_id.in_(s))\n",
    "    .join(m.Subreddit, m.Redditor_Subreddit_Comment.subreddit_id == m.Subreddit.id)\n",
    "    .all()\n",
    ").T\n",
    "df = pd.DataFrame(\n",
    "    {\n",
    "        \"userID\": redditor_subreddit_comment[0],\n",
    "        \"subredditID\": redditor_subreddit_comment[1],\n",
    "        \"rating\": np.ones_like(redditor_subreddit_comment[0]),\n",
    "    }\n",
    ")\n",
    "df[\"rating\"] = pd.to_numeric(df[\"rating\"])"
   ]
  },
  {
   "cell_type": "code",
   "execution_count": 13,
   "metadata": {},
   "outputs": [],
   "source": [
    "user_ids = np.unique(df['userID'])"
   ]
  },
  {
   "cell_type": "code",
   "execution_count": 17,
   "metadata": {},
   "outputs": [],
   "source": [
    "def compare_recommendation_and_interaction(user_id):\n",
    "    print(np.unique(df[df['userID']==user_id]['subredditID']))\n",
    "    print(r.lrange(user_id, 0, -1))"
   ]
  },
  {
   "cell_type": "code",
   "execution_count": 18,
   "metadata": {},
   "outputs": [
    {
     "output_type": "stream",
     "name": "stdout",
     "text": [
      "['MTB' 'crossfit' 'guns']\n[b'weedstocks', b'vinyl', b'Coffee', b'TikTokCringe', b'stopdrinking']\n"
     ]
    }
   ],
   "source": [
    "compare_recommendation_and_interaction(user_ids[0])"
   ]
  },
  {
   "cell_type": "code",
   "execution_count": 19,
   "metadata": {},
   "outputs": [
    {
     "output_type": "stream",
     "name": "stdout",
     "text": [
      "['CitiesSkylines' 'PropagandaPosters' 'Warhammer40k' 'hoi4']\n[b'PoliticalCompassMemes', b'vexillology', b'eu4', b'Warhammer', b'Warthunder']\n"
     ]
    }
   ],
   "source": [
    "compare_recommendation_and_interaction(user_ids[1])"
   ]
  },
  {
   "cell_type": "code",
   "execution_count": 20,
   "metadata": {},
   "outputs": [
    {
     "output_type": "stream",
     "name": "stdout",
     "text": [
      "['linuxquestions' 'makinghiphop' 'unixporn']\n[b'linuxmasterrace', b'linux', b'Piracy', b'linux_gaming', b'archlinux']\n"
     ]
    }
   ],
   "source": [
    "compare_recommendation_and_interaction(user_ids[2])"
   ]
  },
  {
   "cell_type": "code",
   "execution_count": 21,
   "metadata": {},
   "outputs": [
    {
     "output_type": "stream",
     "name": "stdout",
     "text": [
      "['Instantregret' 'apolloapp' 'fatlogic' 'hometheater']\n[b'DeadorVegetable', b'InteriorDesign', b'XboxSeriesX', b'tooktoomuch', b'diablo3']\n"
     ]
    }
   ],
   "source": [
    "compare_recommendation_and_interaction(user_ids[3])"
   ]
  }
 ]
}