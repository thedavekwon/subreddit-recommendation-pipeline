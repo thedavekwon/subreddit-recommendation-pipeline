{
 "metadata": {
  "language_info": {
   "codemirror_mode": {
    "name": "ipython",
    "version": 3
   },
   "file_extension": ".py",
   "mimetype": "text/x-python",
   "name": "python",
   "nbconvert_exporter": "python",
   "pygments_lexer": "ipython3",
   "version": "3.6.9-final"
  },
  "orig_nbformat": 2,
  "kernelspec": {
   "name": "python3",
   "display_name": "Python 3.6.9 64-bit ('venv')",
   "metadata": {
    "interpreter": {
     "hash": "cdee320d0c523a073660c1d36ddb2c472f31732f5be617c276c68b6872129114"
    }
   }
  }
 },
 "nbformat": 4,
 "nbformat_minor": 2,
 "cells": [
  {
   "cell_type": "code",
   "execution_count": 1,
   "metadata": {},
   "outputs": [],
   "source": [
    "import configparser\n",
    "import numpy as np\n",
    "import pandas as pd\n",
    "import tasks.models as m\n",
    "\n",
    "from sqlalchemy import create_engine, func, distinct\n",
    "from sqlalchemy.orm import Session\n",
    "from sqlalchemy import tuple_\n",
    "import redis"
   ]
  },
  {
   "cell_type": "code",
   "execution_count": 2,
   "metadata": {},
   "outputs": [],
   "source": [
    "config = configparser.ConfigParser()\n",
    "config.read(\"config/config.ini\")\n",
    "\n",
    "engine = create_engine(config[\"DB\"].get(\"db_url\"))\n",
    "session = Session(engine)\n",
    "\n",
    "r = redis.Redis(\n",
    "    host=config[\"REDIS\"].get(\"host\"),\n",
    "    port=config[\"REDIS\"].get(\"port\"),\n",
    "    db=config[\"REDIS\"].get(\"db\"),\n",
    ")"
   ]
  },
  {
   "cell_type": "code",
   "execution_count": 3,
   "metadata": {},
   "outputs": [],
   "source": [
    "s = (\n",
    "    session.query(m.Redditor_Subreddit_Comment.redditor_id)\n",
    "    .group_by(m.Redditor_Subreddit_Comment.redditor_id)\n",
    "    .having(func.count(m.Redditor_Subreddit_Comment.subreddit_id.distinct()) > 2)\n",
    "    .subquery()\n",
    ")\n",
    "redditor_subreddit_comment = np.array(\n",
    "    session.query(\n",
    "        m.Redditor_Subreddit_Comment.redditor_id, m.Subreddit.name, m.Redditor.name\n",
    "    )\n",
    "    .distinct(m.Redditor_Subreddit_Comment.redditor_id, m.Subreddit.name)\n",
    "    .filter(m.Redditor_Subreddit_Comment.redditor_id.in_(s))\n",
    "    .join(m.Subreddit, m.Redditor_Subreddit_Comment.subreddit_id == m.Subreddit.id)\n",
    "    .join(m.Redditor, m.Redditor_Subreddit_Comment.redditor_id == m.Redditor.id)\n",
    "    .all()\n",
    ").T\n",
    "df = pd.DataFrame(\n",
    "    {\n",
    "        \"user_id\": redditor_subreddit_comment[0],\n",
    "        \"subreddit_id\": redditor_subreddit_comment[1],\n",
    "        \"username\": redditor_subreddit_comment[2],\n",
    "    }\n",
    ")"
   ]
  },
  {
   "cell_type": "code",
   "execution_count": 4,
   "metadata": {},
   "outputs": [],
   "source": [
    "user_ids = np.unique(df['user_id'])"
   ]
  },
  {
   "cell_type": "code",
   "execution_count": 5,
   "metadata": {},
   "outputs": [],
   "source": [
    "def compare_recommendation_and_interaction(user_id):\n",
    "    if type(user_id) != list:\n",
    "        user_id = [user_id]\n",
    "    for u in user_id:\n",
    "        print(f\"user: {df[df['user_id']==u]['username'].iloc[0]}\") \n",
    "        print(f\"commented on {np.unique(df[df['user_id']==u]['subreddit_id'])}\")\n",
    "        print(f\"recommended {list(map(lambda x: x.decode(), r.lrange(u, 0, -1)))}\")\n",
    "        print(\"\")\n"
   ]
  },
  {
   "cell_type": "code",
   "execution_count": 6,
   "metadata": {},
   "outputs": [
    {
     "output_type": "stream",
     "name": "stdout",
     "text": [
      "user: arq25\ncommented on ['StockMarket' 'sysadmin' 'whiskey']\nrecommended ['pennystocks', 'bourbon', 'RobinHoodPennyStocks', 'options', 'Daytrading']\n\n"
     ]
    }
   ],
   "source": [
    "compare_recommendation_and_interaction(user_ids[0])"
   ]
  },
  {
   "cell_type": "code",
   "execution_count": 7,
   "metadata": {},
   "outputs": [
    {
     "output_type": "stream",
     "name": "stdout",
     "text": [
      "user: ac13332\ncommented on ['AskUK' 'britishproblems' 'golf']\nrecommended ['CasualUK', 'unitedkingdom', 'ukpolitics', 'london', 'UKPersonalFinance']\n\n"
     ]
    }
   ],
   "source": [
    "compare_recommendation_and_interaction(user_ids[1])"
   ]
  },
  {
   "cell_type": "code",
   "execution_count": 8,
   "metadata": {},
   "outputs": [
    {
     "output_type": "stream",
     "name": "stdout",
     "text": [
      "user: ZetTheLegendaryHero\ncommented on ['DCcomics' 'Doom' 'batman' 'goodanimemes']\nrecommended ['DC_Cinematic', 'Spiderman', 'SpidermanPS4', 'raimimemes', 'starwarsmemes']\n\n"
     ]
    }
   ],
   "source": [
    "compare_recommendation_and_interaction(user_ids[2])"
   ]
  },
  {
   "cell_type": "code",
   "execution_count": 9,
   "metadata": {},
   "outputs": [
    {
     "output_type": "stream",
     "name": "stdout",
     "text": [
      "user: M6D_Magnum\ncommented on ['MilitaryPorn' 'assassinscreed' 'gundeals' 'guns']\nrecommended ['ar15', 'GunPorn', 'progun', 'EDC', 'knives']\n\n"
     ]
    }
   ],
   "source": [
    "compare_recommendation_and_interaction(user_ids[3])"
   ]
  },
  {
   "cell_type": "code",
   "execution_count": 10,
   "metadata": {},
   "outputs": [
    {
     "output_type": "stream",
     "name": "stdout",
     "text": [
      "user: Eggith\ncommented on ['askgaybros' 'dbz' 'tf2']\nrecommended ['gay', 'gaybros', 'gay_irl', 'DBZDokkanBattle', 'gaymers']\n\n"
     ]
    }
   ],
   "source": [
    "compare_recommendation_and_interaction(user_ids[4])"
   ]
  },
  {
   "cell_type": "code",
   "execution_count": 11,
   "metadata": {},
   "outputs": [
    {
     "output_type": "stream",
     "name": "stdout",
     "text": [
      "user: Awesomefoxhound\ncommented on ['eu4' 'reddeadredemption2' 'selfimprovement']\nrecommended ['hoi4', 'CrusaderKings', 'RedDeadOnline', 'DecidingToBeBetter', 'imaginarymaps']\n\n"
     ]
    }
   ],
   "source": [
    "compare_recommendation_and_interaction(user_ids[5])"
   ]
  },
  {
   "cell_type": "code",
   "execution_count": 12,
   "metadata": {},
   "outputs": [
    {
     "output_type": "stream",
     "name": "stdout",
     "text": [
      "user: walnoter\ncommented on ['animememes' 'dndmemes' 'furry']\nrecommended ['wholesomeanimemes', 'goodanimemes', 'Konosuba', 'awwnime', 'MemeTemplatesOfficial']\n\n"
     ]
    }
   ],
   "source": [
    "compare_recommendation_and_interaction(user_ids[10])"
   ]
  },
  {
   "cell_type": "code",
   "execution_count": 13,
   "metadata": {},
   "outputs": [
    {
     "output_type": "stream",
     "name": "stdout",
     "text": [
      "user: yinyang107\ncommented on ['RimWorld' 'toronto' 'worldbuilding']\nrecommended ['ontario', 'PersonalFinanceCanada', 'torontoraptors', 'Stellaris', 'vancouver']\n\n"
     ]
    }
   ],
   "source": [
    "compare_recommendation_and_interaction(user_ids[110])"
   ]
  },
  {
   "cell_type": "code",
   "execution_count": 14,
   "metadata": {},
   "outputs": [
    {
     "output_type": "stream",
     "name": "stdout",
     "text": [
      "user: SawkyScribe\ncommented on ['BokuNoHeroAcademia' 'SpidermanPS4' 'patientgamers']\nrecommended ['Spiderman', 'raimimemes', 'Naruto', 'thelastofus', 'ShingekiNoKyojin']\n\n"
     ]
    }
   ],
   "source": [
    "compare_recommendation_and_interaction(user_ids[1000])"
   ]
  },
  {
   "cell_type": "code",
   "execution_count": 16,
   "metadata": {
    "tags": []
   },
   "outputs": [
    {
     "output_type": "stream",
     "name": "stdout",
     "text": [
      "user: onequestion1168\n",
      "commented on ['astrology' 'conspiracytheories' 'learnpython' 'sysadmin']\n",
      "recommended ['cybersecurity', 'linuxquestions', 'homelab', 'tarot', 'spirituality']\n",
      "\n",
      "user: xenaprincesswarlord\n",
      "commented on ['HowToHack' 'TechNewsToday' 'UKPersonalFinance' 'learnpython']\n",
      "recommended ['datascience', 'cybersecurity', 'linuxquestions', 'AskUK', 'linuxmasterrace']\n",
      "\n",
      "user: Badger87000\n",
      "commented on ['EscapefromTarkov' 'TheRightCantMeme' 'learnpython']\n",
      "recommended ['playrust', 'linuxquestions', 'feedthebeast', 'linuxmasterrace', 'datascience']\n",
      "\n",
      "user: MuttsNStuff\n",
      "commented on ['learnpython' 'minimalism' 'seduction']\n",
      "recommended ['simpleliving', 'dating', 'datingoverthirty', 'webdev', 'linuxquestions']\n",
      "\n",
      "user: str8nobull\n",
      "commented on ['Doom' 'EngineeringStudents' 'learnpython']\n",
      "recommended ['AskEngineers', 'datascience', 'learnmath', 'engineering', 'Ubuntu']\n",
      "\n",
      "user: SweeTLemonS_TPR\n",
      "commented on ['Coffee' 'LeopardsAteMyFace' 'Rabbits' 'TheMonkeysPaw'\n",
      " 'cscareerquestions' 'cybersecurity' 'learnpython' 'linuxmasterrace'\n",
      " 'linuxquestions' 'sysadmin']\n",
      "recommended ['linux4noobs', 'linux', 'archlinux', 'Ubuntu', 'homelab']\n",
      "\n",
      "user: MeanTemperature\n",
      "commented on ['ich_iel' 'learnpython' 'productivity']\n",
      "recommended ['de', 'getdisciplined', 'selfimprovement', 'webdev', 'DecidingToBeBetter']\n",
      "\n",
      "user: thatRoland\n",
      "commented on ['arduino' 'hoi4' 'learnpython']\n",
      "recommended ['factorio', 'functionalprint', '3Dprinting', 'eu4', 'linuxquestions']\n",
      "\n",
      "user: Arag0ld\n",
      "commented on ['HomeNetworking' 'darksouls3' 'learnpython' 'linux4noobs']\n",
      "recommended ['linuxquestions', 'Ubuntu', 'linux', 'linuxmasterrace', 'archlinux']\n",
      "\n",
      "user: wsppan\n",
      "commented on ['The_Mueller' 'computerscience' 'java' 'learnpython']\n",
      "recommended ['cscareerquestions', 'datascience', 'learnmath', 'webdev', 'linuxquestions']\n",
      "\n",
      "user: srandrews\n",
      "commented on ['EngineeringPorn' 'LateStageCapitalism' 'learnpython']\n",
      "recommended ['linuxquestions', 'linux4noobs', 'linux', 'linuxmasterrace', 'archlinux']\n",
      "\n",
      "user: funKmaster_tittyBoi\n",
      "commented on ['TheRightCantMeme' 'bayarea' 'learnpython' 'sanfrancisco']\n",
      "recommended ['cscareerquestions', 'datascience', 'Coffee', 'California', 'worldbuilding']\n",
      "\n",
      "user: impshum\n",
      "commented on ['learnpython' 'slavelabour' 'webdev']\n",
      "recommended ['productivity', 'web_design', 'careerguidance', 'cscareerquestions', 'jobs']\n",
      "\n",
      "user: Doormatty\n",
      "commented on ['arduino' 'learnpython' 'vancouver']\n",
      "recommended ['3Dprinting', 'functionalprint', 'linuxquestions', 'factorio', 'linuxmasterrace']\n",
      "\n",
      "user: ggd_x\n",
      "commented on ['britishproblems' 'learnpython' 'linux' 'linuxquestions']\n",
      "recommended ['linuxmasterrace', 'linux4noobs', 'archlinux', 'Ubuntu', 'linux_gaming']\n",
      "\n",
      "user: teeaton\n",
      "commented on ['homelab' 'learnpython' 'sysadmin']\n",
      "recommended ['HomeNetworking', 'cybersecurity', 'networking', 'linuxquestions', 'DataHoarder']\n",
      "\n",
      "user: sultav\n",
      "commented on ['HongKong' 'cycling' 'excel' 'languagelearning' 'learnpython']\n",
      "recommended ['China', 'japan', 'datascience', 'japanlife', 'geopolitics']\n",
      "\n",
      "user: tipsy_python\n",
      "commented on ['bourbon' 'learnpython' 'whiskey']\n",
      "recommended ['cocktails', 'Coffee', 'linuxquestions', 'Denver', 'drunk']\n",
      "\n",
      "user: cdcformatc\n",
      "commented on ['dndnext' 'learnpython' 'starcraft']\n",
      "recommended ['linuxquestions', 'archlinux', 'webdev', 'de', 'linuxmasterrace']\n",
      "\n",
      "user: Se7enLC\n",
      "commented on ['MTB' 'Ubuntu' 'learnpython' 'linuxquestions']\n",
      "recommended ['linux', 'linuxmasterrace', 'linux4noobs', 'archlinux', 'linux_gaming']\n",
      "\n",
      "user: hotlinehelpbot\n",
      "commented on ['AMA' 'Accounting' 'Advice' 'ApplyingToCollege' 'AskDocs' 'Assistance'\n",
      " 'Brawlstars' 'HollowKnight' 'IllegalLifeProTips' 'LSD' 'Meditation'\n",
      " 'Psychonaut' 'RedDeadOnline' 'Smite' 'SquaredCircle' 'Teachers'\n",
      " 'UnsentLetters' 'creepypasta' 'feedthebeast' 'formuladank'\n",
      " 'internetparents' 'japan' 'learnpython' 'lgbt' 'mentalhealth'\n",
      " 'musictheory' 'rant' 'shortscarystories' 'socialanxiety']\n",
      "recommended ['college', 'shrooms', 'SuicideWatch', 'astrology', 'Anxiety']\n",
      "\n",
      "user: jaycrest3m20\n",
      "commented on ['HalfLife' 'learnpython' 'linuxmasterrace']\n",
      "recommended ['linuxquestions', 'linux', 'archlinux', 'linux4noobs', 'Ubuntu']\n",
      "\n",
      "user: cicadam\n",
      "commented on ['askgaybros' 'datascience' 'learnpython']\n",
      "recommended ['cscareerquestions', 'learnmath', 'computerscience', 'careerguidance', 'statistics']\n",
      "\n",
      "user: ButtholeQuiver\n",
      "commented on ['PropagandaPosters' 'ireland' 'learnpython']\n",
      "recommended ['vexillology', 'linuxquestions', 'linux4noobs', 'imaginarymaps', 'archlinux']\n",
      "\n",
      "user: veeeerain\n",
      "commented on ['college' 'datascience' 'learnpython' 'statistics' 'travisscott']\n",
      "recommended ['cscareerquestions', 'ApplyingToCollege', 'jobs', 'careerguidance', 'learnmath']\n",
      "\n",
      "user: did_i_or_didnt_i\n",
      "commented on ['archlinux' 'cybersecurity' 'learnpython' 'linux' 'linuxquestions']\n",
      "recommended ['linuxmasterrace', 'linux4noobs', 'Ubuntu', 'linux_gaming', 'sysadmin']\n",
      "\n",
      "user: Fearless_Process\n",
      "commented on ['archlinux' 'intel' 'learnpython']\n",
      "recommended ['linuxquestions', 'linux', 'linuxmasterrace', 'linux4noobs', 'linux_gaming']\n",
      "\n",
      "user: Cuntable\n",
      "commented on ['PropagandaPosters' 'de' 'feedthebeast' 'learnpython' 'webdev']\n",
      "recommended ['factorio', 'vexillology', 'web_design', 'ich_iel', 'cscareerquestions']\n",
      "\n",
      "user: sucrerey\n",
      "commented on ['learnpython' 'shrooms' 'whowouldwin']\n",
      "recommended ['LSD', 'Psychonaut', 'linuxquestions', 'cscareerquestions', 'datascience']\n",
      "\n",
      "user: diagana1\n",
      "commented on ['Warhammer40k' 'cscareerquestions' 'datascience' 'imaginarymaps'\n",
      " 'learnpython']\n",
      "recommended ['learnmath', 'computerscience', 'careerguidance', 'statistics', 'vexillology']\n",
      "\n",
      "user: MrBlobbyDog\n",
      "commented on ['MilitaryPorn' 'PokemonGoFriends' 'UnsentLetters' 'booksuggestions'\n",
      " 'borderlands3' 'learnpython']\n",
      "recommended ['TheSilphRoad', 'Borderlands2', 'Borderlands', 'PokemonSwordAndShield', 'skyrimmods']\n",
      "\n",
      "user: MarcusAurelius1815\n",
      "commented on ['AmateurRoomPorn' 'datingoverthirty' 'learnpython']\n",
      "recommended ['dating', 'seduction', 'linuxquestions', 'OkCupid', 'linux']\n",
      "\n",
      "user: AutoModerator\n",
      "commented on ['2007scape' '2busty2hide' '2healthbars' '3Dprinting' '90DayFiance'\n",
      " 'AAAAAAAAAAAAAAAAA' 'ABraThatFits' 'ACQR' 'ACTrade' 'AMA'\n",
      " 'AccidentalRacism' 'AfterEffects' 'AmateurRoomPorn' 'AmericanHorrorStory'\n",
      " 'Amoledbackgrounds' 'Anarchism' 'Angryupvote' 'Animesuggest'\n",
      " 'Animewallpaper' 'AnthemTheGame' 'ApplyingToCollege' 'Aquariums'\n",
      " 'ArcherFX' 'AreTheStraightsOK' 'AskAcademia' 'AskAnAmerican'\n",
      " 'AskCulinary' 'AskDocs' 'AskEngineers' 'AskEurope' 'AskScienceFiction'\n",
      " 'AskUK' 'AstralProjection' 'AteTheOnion' 'Atlanta' 'Austin'\n",
      " 'AutoDetailing' 'Autos' 'BBQ' 'BDSMAdvice' 'BMW' 'BabyBumps'\n",
      " 'BeautifulFemales' 'BeautyGuruChatter' 'Berserk' 'BoJackHorseman'\n",
      " 'BokuNoHeroAcademia' 'Bonsai' 'Botchedsurgeries' 'Brawlstars'\n",
      " 'Breath_of_the_Wild' 'Brogress' 'Buddhism' 'COVID19' 'CallOfDuty'\n",
      " 'CallOfDutyMobile' 'Cartalk' 'CasualUK' 'Celebhub' 'Celebs'\n",
      " 'Celebswithbigtits' 'China' 'Chonkers' 'Christianity' 'CityPorn'\n",
      " 'ClashOfClans' 'ClashRoyale' 'Coffee' 'CombatFootage' 'ComedyNecrophilia'\n",
      " 'Competitiveoverwatch' 'Conservative' 'CrackWatch' 'CrazyIdeas' 'Cricket'\n",
      " 'CrossStitch' 'DBZDokkanBattle' 'DC_Cinematic' 'DCcomics'\n",
      " 'DankMemesFromSite19' 'DarK' 'DataHoarder' 'Davie504'\n",
      " 'DecidingToBeBetter' 'Denmark' 'DesignerReps' 'Diablo'\n",
      " 'DnDBehindTheScreen' 'Dogtraining' 'Drumkits' 'Duklock'\n",
      " 'EngineeringStudents' 'EscapefromTarkov' 'Eve' 'FL_Studio' 'FORTnITE'\n",
      " 'FUCKYOUINPARTICULAR' 'FashionReps' 'FinalFantasy' 'FinancialPlanning'\n",
      " 'FireEmblemHeroes' 'FortniteCompetitive' 'FragileWhiteRedditor'\n",
      " 'FrankOcean' 'FreeGameFindings' 'FreeGamesOnSteam' 'FrugalFemaleFashion'\n",
      " 'Fuckthealtright' 'GameTheorists' 'Gamingcirclejerk'\n",
      " 'GlobalOffensiveTrade' 'GoCommitDie' 'GooglePixel' 'Grimdank'\n",
      " 'Guildwars2' 'GunPorn' 'Gunners' 'HFY' 'HadToHurt' 'HalfLife'\n",
      " 'HelpMeFind' 'HermitCraft' 'HighStrangeness' 'HongKong' 'HowToHack'\n",
      " 'HunterXHunter' 'IASIP' 'IRLgirls' 'IllegalLifeProTips' 'IndieGaming'\n",
      " 'Infographics' 'InsanePeopleQuora' 'Instagram' 'InteriorDesign'\n",
      " 'InternetStars' 'IsItBullshit' 'ItHadToBeBrazil' 'Jazz' 'JoeRogan'\n",
      " 'JordanPeterson' 'JustBootThings' 'KDRAMA' 'Konosuba' 'LSD'\n",
      " 'LateStageCapitalism' 'LatinaCuties' 'LeagueOfMemes' 'LearnJapanese'\n",
      " 'LeopardsAteMyFace' 'LetsTalkMusic' 'Libertarian' 'LiverpoolFC'\n",
      " 'LodedDiper' 'LongDistance' 'LosAngeles' 'Lovecraft' 'MLS' 'MMORPG'\n",
      " 'MagicArena' 'MakeNewFriendsHere' 'Makeup' 'Marijuana' 'Markiplier'\n",
      " 'Marriage' 'MarvelStudiosSpoilers' 'MechanicAdvice'\n",
      " 'MemeTemplatesOfficial' 'MensLib' 'MensRights' 'MetalMemes' 'Military'\n",
      " 'MilitaryPorn' 'Mindfulness' 'MinecraftMemes' 'Minecraftbuilds' 'Monero'\n",
      " 'MonsterHunterWorld' 'MovieSuggestions' 'NBA2k' 'Naruto' 'Needafriend'\n",
      " 'NeutralPolitics' 'NewTubers' 'NintendoSwitchDeals' 'NoahGetTheBoat'\n",
      " 'Nootropics' 'ObscureMedia' 'OculusQuest' 'OurPresident'\n",
      " 'OverwatchUniversity' 'Overwatch_Memes' 'PS5' 'PSVR' 'PUBG' 'PUBGMobile'\n",
      " 'Paladins' 'Persona5' 'PersonalFinanceCanada' 'Philippines' 'Piracy'\n",
      " 'PixelArt' 'Pizza' 'PleX' 'PokemonGoFriends' 'PokemonSwordAndShield'\n",
      " 'Polska' 'Portland' 'PowerShell' 'PropagandaPosters' 'ProtectAndServe'\n",
      " 'Psychonaut' 'QuotesPorn' 'RBI' 'Rabbits' 'Rateme' 'RedDeadOnline'\n",
      " 'RedditLaqueristas' 'Repsneakers' 'RimWorld' 'Romania' 'SCP'\n",
      " 'SandersForPresident' 'SapphoAndHerFriend' 'Satisfyingasfuck' 'Scams'\n",
      " 'Seaofthieves' 'Seattle' 'ShitAmericansSay' 'SmashBrosUltimate' 'Smite'\n",
      " 'SpidermanPS4' 'SquaredCircle' 'StardewValley' 'StardustCrusaders'\n",
      " 'Stellaris' 'StockMarket' 'StonerEngineering' 'StrangerThings'\n",
      " 'StreetFights' 'SubredditDrama' 'Supernatural' 'Supplements' 'Swingers'\n",
      " 'TalesFromRetail' 'TalesFromTheFrontDesk' 'TankPorn' 'TeamfightTactics'\n",
      " 'Terraria' 'TheGirlSurvivalGuide' 'TheGoodPlace' 'TheMonkeysPaw'\n",
      " 'TheRightCantMeme' 'TheSilphRoad' 'The_Mueller' 'TheoryOfReddit'\n",
      " 'TikTokCringe' 'ToiletPaperUSA' 'TopMindsOfReddit' 'TrueAskReddit'\n",
      " 'TrueCrime' 'TrueCrimeDiscussion' 'TrueReddit' 'TumblrInAction' 'UFOs'\n",
      " 'UKPersonalFinance' 'Unity3D' 'UnsentLetters' 'UrbanHell' 'Vaporwave'\n",
      " 'Vive' 'WWE' 'Warframe' 'Warthunder' 'WatchRedditDie' 'Windows10'\n",
      " 'WorkOnline' 'WouldYouRather' 'ZeroWaste' 'ac_newhorizons'\n",
      " 'actuallesbians' 'acturnips' 'adventuretime' 'agedlikewine' 'airsoft'\n",
      " 'algotrading' 'amazon' 'amiugly' 'androidapps' 'androiddev'\n",
      " 'anime_titties' 'animememes' 'answers' 'antiMLM' 'antimeme' 'antiwork'\n",
      " 'arabfunny' 'architecture' 'argentina' 'army' 'askgaybros'\n",
      " 'askphilosophy' 'askwomenadvice' 'asmr' 'assassinscreed' 'attackontitan'\n",
      " 'australia' 'awwnime' 'badwomensanatomy' 'beauty' 'beermoney'\n",
      " 'bigdickproblems' 'bigtitsinbikinis' 'bisexual' 'bjj' 'blackdesertonline'\n",
      " 'blackmirror' 'blackpeoplegifs' 'bloodborne' 'boston' 'bostonceltics'\n",
      " 'brasil' 'britishproblems' 'brooklynninenine' 'budgetfood' 'burdurland'\n",
      " 'careerguidance' 'castiron' 'characterdrawing' 'chelseafc' 'chess'\n",
      " 'chicago' 'chromeos' 'churning' 'cinematography' 'circlejerk'\n",
      " 'classicwow' 'clevercomebacks' 'college' 'community' 'computerscience'\n",
      " 'cookingforbeginners' 'cordcutters' 'corgi' 'cosplay' 'cosplaybabes'\n",
      " 'cosplaygirls' 'creepyPMs' 'creepypasta' 'criticalrole' 'crochet'\n",
      " 'crossfit' 'cscareerquestions' 'csgo' 'curlyhair' 'cursedvideos'\n",
      " 'cyberpunkgame' 'daddit' 'darksouls3' 'dating' 'datingoverthirty' 'dayz'\n",
      " 'dbz' 'de' 'deadbydaylight' 'deals' 'deepweb' 'delusionalartists'\n",
      " 'destiny2' 'disney' 'disneyvacation' 'dndmemes' 'donaldglover'\n",
      " 'dontdeadopeninside' 'donthelpjustfilm' 'edmproduction'\n",
      " 'elderscrollsonline' 'electronic_cigarette' 'emojipasta' 'emulation'\n",
      " 'engineering' 'ethtrader' 'evangelion' 'excel' 'exmormon'\n",
      " 'fantasyfootball' 'fantasywriters' 'fatlogic' 'feetpics' 'ffxiv'\n",
      " 'findareddit' 'fivenightsatfreddys' 'flexibility' 'fo4' 'fo76' 'forhire'\n",
      " 'forhonor' 'forwardsfromgrandma' 'forza' 'france' 'fullmoviesonyoutube'\n",
      " 'funkopop' 'gainit' 'gamedev' 'gamegrumps' 'gamernews' 'gay' 'gay_irl'\n",
      " 'gaybros' 'gaymers' 'gentlemanboners' 'geopolitics' 'getdisciplined'\n",
      " 'goddesses' 'goodanimemes' 'grandorder' 'graphic_design' 'gtaglitches'\n",
      " 'gundeals' 'guns' 'h3h3productions' 'happy' 'hardwareswap' 'help'\n",
      " 'heroesofthestorm' 'homelab' 'hometheater' 'houston' 'ich_iel'\n",
      " 'iiiiiiitttttttttttt' 'india' 'indianpeoplefacebook' 'internetparents'\n",
      " 'introvert' 'ipad' 'ireland' 'italy' 'jacksepticeye' 'jailbreak' 'japan'\n",
      " 'japanlife' 'java' 'jobs' 'ketorecipes' 'knitting' 'korea' 'kpop'\n",
      " 'lakers' 'landscaping' 'languagelearning' 'leangains' 'learnmath'\n",
      " 'learnpython' 'lego' 'lgbt' 'linguistics' 'linux' 'linuxmasterrace'\n",
      " 'london' 'longboarding' 'lostredditors' 'magicTCG' 'makinghiphop'\n",
      " 'marketing' 'masseffect' 'meatcrayon' 'mechmarket' 'medicalschool'\n",
      " 'melbourne' 'mentalhealth' 'menwritingwomen' 'metalgearsolid' 'mexico'\n",
      " 'minecraftsuggestions' 'minipainting' 'morbidquestions' 'netflix'\n",
      " 'networking' 'newzealand' 'nothingeverhappens' 'offbeat' 'onebag'\n",
      " 'onions' 'opendirectories' 'options' 'outside' 'overclocking'\n",
      " 'pathofexile' 'patientgamers' 'pennystocks' 'philadelphia' 'photoshop'\n",
      " 'pickuplines' 'piercing' 'plantclinic' 'playrust' 'playstation'\n",
      " 'pointlesslygendered' 'pokemontrades' 'polandball' 'polyamory' 'popheads'\n",
      " 'povertyfinance' 'powerlifting' 'premed' 'r4r' 'rage' 'raidsecrets'\n",
      " 'raisedbynarcissists' 'rant' 'reactjs' 'realasians' 'realestateinvesting'\n",
      " 'reddevils' 'residentevil' 'resumes' 'retrogaming' 'riddles'\n",
      " 'rimjob_steve' 'roblox' 'rpghorrorstories' 'runescape' 'rupaulsdragrace'\n",
      " 'samsung' 'sanfrancisco' 'sbubby' 'selfimprovement' 'serialkillers'\n",
      " 'sewing' 'shittyrainbow6' 'shittyrobots' 'shortcuts' 'shortscarystories'\n",
      " 'shrooms' 'simracing' 'singapore' 'skateboarding' 'skyrimmods'\n",
      " 'slavelabour' 'snapchat' 'socialism' 'socialmedia' 'spirituality'\n",
      " 'spotify' 'starcitizen' 'startrek' 'startups' 'statistics'\n",
      " 'streetwearstartup' 'subnautica' 'succulents' 'suicidebywords'\n",
      " 'summonerschool' 'supremeclothing' 'sweden' 'swtor' 'synthesizers'\n",
      " 'sysadmin' 'tarot' 'tattoo' 'tea' 'texas' 'tf2' 'thanksihateit'\n",
      " 'thedivision' 'thelastofus' 'thenetherlands' 'thesims' 'theydidthemath'\n",
      " 'tiktokthots' 'titanfall' 'toastme' 'toronto' 'traaaaaaannnnnnnnnns'\n",
      " 'trapproduction' 'tylerthecreator' 'typography' 'unitedkingdom'\n",
      " 'unixporn' 'vegetarian' 'vexillology' 'vinyl' 'virtualreality'\n",
      " 'visualnovels' 'watchpeoplesurvive' 'web_design' 'webdev'\n",
      " 'weddingshaming' 'weedstocks' 'weightroom' 'whatsthisplant'\n",
      " 'whiteknighting' 'wholesomeanimemes' 'wholesomebpt' 'windows'\n",
      " 'witchcraft' 'wokekids' 'woof_irl' 'xbox' 'xqcow' 'yiffinhell' 'yoga'\n",
      " 'youtube' 'yugioh']\n",
      "recommended ['Hololive', 'blender', 'FreeKarma4U', 'CODZombies', 'ThatLookedExpensive']\n",
      "\n",
      "user: 0161WontForget\n",
      "commented on ['AskUK' 'learnpython' 'reddevils']\n",
      "recommended ['FantasyPL', 'FIFA', 'linuxquestions', 'UKPersonalFinance', 'ireland']\n",
      "\n",
      "user: sqlphilosopher\n",
      "commented on ['learnpython' 'linux_gaming' 'linuxquestions']\n",
      "recommended ['linuxmasterrace', 'linux4noobs', 'linux', 'archlinux', 'Ubuntu']\n",
      "\n",
      "user: K900_\n",
      "commented on ['archlinux' 'learnpython' 'linux']\n",
      "recommended ['linuxquestions', 'linuxmasterrace', 'linux4noobs', 'Ubuntu', 'linux_gaming']\n",
      "\n",
      "user: FakespotAnalysisBot\n",
      "commented on ['3Dprinting' 'ABraThatFits' 'AppleWatch' 'AskEngineers'\n",
      " 'AstralProjection' 'Autos' 'DCcomics' 'EngineeringStudents'\n",
      " 'HomeNetworking' 'LongDistance' 'MechanicAdvice' 'OculusQuest' 'PS4Deals'\n",
      " 'PSVR' 'PleX' 'Scams' 'Teachers' 'Ubuntu' 'airsoft' 'archlinux'\n",
      " 'audioengineering' 'booksuggestions' 'buildapcforme' 'cocktails'\n",
      " 'crochet' 'cyberpunkgame' 'daddit' 'deals' 'edmproduction' 'houseplants'\n",
      " 'jailbreak' 'knitting' 'learnpython' 'linuxquestions' 'malegrooming'\n",
      " 'malehairadvice' 'nvidia' 'oculus' 'philadelphia' 'realestateinvesting'\n",
      " 'simracing' 'vinyl' 'wicked_edge' 'xbox' 'xxfitness']\n",
      "recommended ['linux4noobs', 'virtualreality', 'headphones', 'linuxmasterrace', 'RealEstate']\n",
      "\n",
      "user: Spicy_Poo\n",
      "commented on ['Coffee' 'Denver' 'learnpython']\n",
      "recommended ['whiskey', 'bourbon', 'datascience', 'linuxquestions', 'cocktails']\n",
      "\n",
      "user: ballommasterofdeath\n",
      "commented on ['FantasyPL' 'learnpython' 'reddevils']\n",
      "recommended ['FIFA', 'Gunners', 'chelseafc', 'LiverpoolFC', 'footballmanagergames']\n",
      "\n",
      "user: monstimal\n",
      "commented on ['architecture' 'finance' 'learnpython']\n",
      "recommended ['business', 'RealEstate', 'datascience', 'realestateinvesting', 'bayarea']\n",
      "\n",
      "user: zanfar\n",
      "commented on ['HomeNetworking' 'LeopardsAteMyFace' 'iiiiiiitttttttttttt' 'learnpython'\n",
      " 'networking']\n",
      "recommended ['sysadmin', 'homelab', 'talesfromtechsupport', 'techsupportgore', 'cybersecurity']\n",
      "\n",
      "user: Obamanibblesnomaam\n",
      "commented on ['factorio' 'learnmath' 'learnpython']\n",
      "recommended ['datascience', 'cscareerquestions', 'futurama', 'feedthebeast', 'webdev']\n",
      "\n",
      "user: GorboducRex\n",
      "commented on ['Ubuntu' 'chromeos' 'learnpython']\n",
      "recommended ['linuxquestions', 'linux', 'linuxmasterrace', 'linux4noobs', 'archlinux']\n",
      "\n",
      "user: Grammar-Bot-Elite\n",
      "commented on ['ARK' 'AmericanHorrorStory' 'Animesuggest' 'AskDocs' 'Assistance'\n",
      " 'AstralProjection' 'BabyBumps' 'Brawlstars' 'Cartalk' 'CitiesSkylines'\n",
      " 'CrusaderKings' 'EscapefromTarkov' 'FL_Studio' 'GameTheorists'\n",
      " 'GooglePixel' 'HollowKnight' 'MagicArena' 'MakeNewFriendsHere'\n",
      " 'MechanicAdvice' 'MensRights' 'MortalKombat' 'NoMansSkyTheGame'\n",
      " 'OculusQuest' 'OkCupid' 'SCP' 'ShingekiNoKyojin' 'StockMarket'\n",
      " 'Supernatural' 'TopGear' 'UnearthedArcana' 'Windows10' 'askgaybros'\n",
      " 'astrology' 'attackontitan' 'bisexual' 'buildapcforme' 'circlejerk' 'civ'\n",
      " 'dndnext' 'elderscrollsonline' 'factorio' 'fantasywriters'\n",
      " 'fivenightsatfreddys' 'grandorder' 'halo' 'jacksepticeye' 'learnpython'\n",
      " 'mentalhealth' 'musictheory' 'nvidia' 'oculus' 'pennystocks' 'piano'\n",
      " 'pyrocynical' 'selfimprovement' 'simracing' 'smallbusiness'\n",
      " 'spirituality' 'worldbuilding' 'youtube']\n",
      "recommended ['SuicideWatch', 'feedthebeast', 'Autos', 'intel', 'Christianity']\n",
      "\n",
      "user: Linuxllc\n",
      "commented on ['Ubuntu' 'learnpython' 'linux' 'linux4noobs' 'linuxquestions' 'sysadmin']\n",
      "recommended ['linuxmasterrace', 'archlinux', 'linux_gaming', 'unixporn', 'linuxadmin']\n",
      "\n",
      "user: PhoenicianPirate\n",
      "commented on ['Fuckthealtright' 'LeopardsAteMyFace' 'learnpython' 'worldbuilding']\n",
      "recommended ['beholdthemasterrace', 'feedthebeast', 'fantasywriters', 'The_Mueller', 'linuxquestions']\n",
      "\n",
      "user: Swedophone\n",
      "commented on ['MTB' 'learnpython' 'linuxquestions']\n",
      "recommended ['linux', 'linuxmasterrace', 'archlinux', 'linux4noobs', 'Ubuntu']\n",
      "\n",
      "user: Doogameister\n",
      "commented on ['AccidentalRacism' 'IASIP' 'learnpython']\n",
      "recommended ['ComedyNecrophilia', 'The_Mueller', 'ufc', 'linuxquestions', 'datascience']\n",
      "\n",
      "user: WhackAMoleE\n",
      "commented on ['cscareerquestions' 'learnmath' 'learnpython']\n",
      "recommended ['datascience', 'computerscience', 'careerguidance', 'webdev', 'statistics']\n",
      "\n",
      "user: krimpenrik\n",
      "commented on ['learnpython' 'sydney' 'webdev']\n",
      "recommended ['australia', 'melbourne', 'cscareerquestions', 'datascience', 'China']\n",
      "\n",
      "user: cyberrumor\n",
      "commented on ['HowToHack' 'archlinux' 'learnpython' 'linuxmasterrace']\n",
      "recommended ['linuxquestions', 'linux', 'linux4noobs', 'Ubuntu', 'linux_gaming']\n",
      "\n",
      "user: Monovon\n",
      "commented on ['SuicideWatch' 'chelseafc' 'learnpython']\n",
      "recommended ['FIFA', 'FantasyPL', 'reddevils', 'Gunners', 'linuxquestions']\n",
      "\n",
      "user: jeffrey_f\n",
      "commented on ['Ubuntu' 'learnpython' 'sysadmin' 'talesfromtechsupport']\n",
      "recommended ['linuxquestions', 'linux', 'homelab', 'linux4noobs', 'cybersecurity']\n",
      "\n",
      "user: raglub\n",
      "commented on ['cybersecurity' 'datascience' 'learnpython']\n",
      "recommended ['cscareerquestions', 'sysadmin', 'computerscience', 'learnmachinelearning', 'homelab']\n",
      "\n",
      "user: duckybebop\n",
      "commented on ['Gamingcirclejerk' 'Smite' 'forwardsfromgrandma' 'learnpython']\n",
      "recommended ['deadbydaylight', 'Fuckthealtright', 'linuxquestions', 'forhonor', 'TopMindsOfReddit']\n",
      "\n",
      "user: jclocks\n",
      "commented on ['chess' 'learnpython' 'retrogaming']\n",
      "recommended ['gamecollecting', 'linuxquestions', 'Ubuntu', 'sysadmin', 'cscareerquestions']\n",
      "\n",
      "user: Humanist_NA\n",
      "commented on ['Coffee' 'fantasyfootball' 'learnpython']\n",
      "recommended ['linuxquestions', 'bourbon', 'whiskey', 'archlinux', 'Ubuntu']\n",
      "\n",
      "user: synthphreak\n",
      "commented on ['datascience' 'learnpython' 'mallninjashit']\n",
      "recommended ['cscareerquestions', 'knives', 'learnmath', 'computerscience', 'statistics']\n",
      "\n",
      "user: mutantsloth\n",
      "commented on ['Coffee' 'TheGirlSurvivalGuide' 'learnpython' 'singapore']\n",
      "recommended ['tea', 'datascience', 'linuxquestions', 'linux', 'Ubuntu']\n",
      "\n"
     ]
    }
   ],
   "source": [
    "# compare_recommendation_and_interaction('10rndb')\n",
    "compare_recommendation_and_interaction(list(np.unique(df[df['subreddit_id']=='learnpython']['user_id'])))"
   ]
  }
 ]
}