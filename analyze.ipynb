{
 "metadata": {
  "language_info": {
   "codemirror_mode": {
    "name": "ipython",
    "version": 3
   },
   "file_extension": ".py",
   "mimetype": "text/x-python",
   "name": "python",
   "nbconvert_exporter": "python",
   "pygments_lexer": "ipython3",
   "version": "3.6.9-final"
  },
  "orig_nbformat": 2,
  "kernelspec": {
   "name": "python3",
   "display_name": "Python 3.6.9 64-bit ('venv')",
   "metadata": {
    "interpreter": {
     "hash": "cdee320d0c523a073660c1d36ddb2c472f31732f5be617c276c68b6872129114"
    }
   }
  }
 },
 "nbformat": 4,
 "nbformat_minor": 2,
 "cells": [
  {
   "cell_type": "code",
   "execution_count": 76,
   "metadata": {},
   "outputs": [],
   "source": [
    "import configparser\n",
    "import numpy as np\n",
    "import pandas as pd\n",
    "import tasks.models as m\n",
    "\n",
    "from sqlalchemy import create_engine, func, distinct\n",
    "from sqlalchemy.orm import Session\n",
    "from sqlalchemy import tuple_\n",
    "import redis"
   ]
  },
  {
   "cell_type": "code",
   "execution_count": 77,
   "metadata": {},
   "outputs": [],
   "source": [
    "config = configparser.ConfigParser()\n",
    "config.read(\"config/config.ini\")\n",
    "\n",
    "engine = create_engine(config[\"DB\"].get(\"db_url\"))\n",
    "session = Session(engine)\n",
    "\n",
    "r = redis.Redis(\n",
    "    host=config[\"REDIS\"].get(\"host\"),\n",
    "    port=config[\"REDIS\"].get(\"port\"),\n",
    "    db=config[\"REDIS\"].get(\"db\"),\n",
    ")"
   ]
  },
  {
   "cell_type": "code",
   "execution_count": 78,
   "metadata": {},
   "outputs": [],
   "source": [
    "s = (\n",
    "    session.query(m.Redditor_Subreddit_Comment.redditor_id)\n",
    "    .group_by(m.Redditor_Subreddit_Comment.redditor_id)\n",
    "    .having(func.count(m.Redditor_Subreddit_Comment.subreddit_id.distinct()) > 2)\n",
    "    .subquery()\n",
    ")\n",
    "redditor_subreddit_comment = np.array(\n",
    "    session.query(\n",
    "        m.Redditor_Subreddit_Comment.redditor_id, m.Subreddit.name, m.Redditor.name\n",
    "    )\n",
    "    .distinct(m.Redditor_Subreddit_Comment.redditor_id, m.Subreddit.name)\n",
    "    .filter(m.Redditor_Subreddit_Comment.redditor_id.in_(s))\n",
    "    .join(m.Subreddit, m.Redditor_Subreddit_Comment.subreddit_id == m.Subreddit.id)\n",
    "    .join(m.Redditor, m.Redditor_Subreddit_Comment.redditor_id == m.Redditor.id)\n",
    "    .all()\n",
    ").T\n",
    "df = pd.DataFrame(\n",
    "    {\n",
    "        \"user_id\": redditor_subreddit_comment[0],\n",
    "        \"subreddit_id\": redditor_subreddit_comment[1],\n",
    "        \"username\": redditor_subreddit_comment[2],\n",
    "    }\n",
    ")"
   ]
  },
  {
   "cell_type": "code",
   "execution_count": 79,
   "metadata": {},
   "outputs": [],
   "source": [
    "user_ids = np.unique(df['user_id'])"
   ]
  },
  {
   "cell_type": "code",
   "execution_count": 80,
   "metadata": {},
   "outputs": [],
   "source": [
    "def compare_recommendation_and_interaction(user_id):\n",
    "    if type(user_id) != list:\n",
    "        user_id = [user_id]\n",
    "    for u in user_id:\n",
    "        print(f\"user: {df[df['user_id']==u]['username'].iloc[0]}\") \n",
    "        print(f\"commented on {np.unique(df[df['user_id']==u]['subreddit_id'])}\")\n",
    "        print(f\"recommended {list(map(lambda x: x.decode(), r.lrange(u, 0, -1)))}\")\n",
    "        print(\"\")\n"
   ]
  },
  {
   "cell_type": "code",
   "execution_count": 81,
   "metadata": {},
   "outputs": [
    {
     "output_type": "stream",
     "name": "stdout",
     "text": [
      "user: tokenflip408619\ncommented on ['MTB' 'crossfit' 'guns']\nrecommended ['texas', 'vinyl', 'Austin', 'Seattle', 'Coffee']\n\n"
     ]
    }
   ],
   "source": [
    "compare_recommendation_and_interaction(user_ids[0])"
   ]
  },
  {
   "cell_type": "code",
   "execution_count": 82,
   "metadata": {},
   "outputs": [
    {
     "output_type": "stream",
     "name": "stdout",
     "text": [
      "user: ImaginaryTutor\ncommented on ['SelfAwarewolves' 'lgbt' 'traaaaaaannnnnnnnnns']\nrecommended ['actuallesbians', 'AreTheStraightsOK', 'TheRightCantMeme', 'bisexual', 'ToiletPaperUSA']\n\n"
     ]
    }
   ],
   "source": [
    "compare_recommendation_and_interaction(user_ids[1])"
   ]
  },
  {
   "cell_type": "code",
   "execution_count": 83,
   "metadata": {},
   "outputs": [
    {
     "output_type": "stream",
     "name": "stdout",
     "text": [
      "user: tarkin1980\ncommented on ['CitiesSkylines' 'PropagandaPosters' 'Warhammer40k' 'hoi4']\nrecommended ['eu4', 'Warthunder', 'vexillology', 'TankPorn', 'paradoxplaza']\n\n"
     ]
    }
   ],
   "source": [
    "compare_recommendation_and_interaction(user_ids[2])"
   ]
  },
  {
   "cell_type": "code",
   "execution_count": 84,
   "metadata": {},
   "outputs": [
    {
     "output_type": "stream",
     "name": "stdout",
     "text": [
      "user: Norokk\ncommented on ['RedDeadOnline' 'TrueCrime' 'forza']\nrecommended ['serialkillers', 'TrueCrimeDiscussion', 'BeautyGuruChatter', 'FragileWhiteRedditor', 'CitiesSkylines']\n\n"
     ]
    }
   ],
   "source": [
    "compare_recommendation_and_interaction(user_ids[3])"
   ]
  },
  {
   "cell_type": "code",
   "execution_count": 85,
   "metadata": {},
   "outputs": [
    {
     "output_type": "stream",
     "name": "stdout",
     "text": [
      "user: DerekB52\ncommented on ['linuxquestions' 'makinghiphop' 'unixporn']\nrecommended ['linux', 'linuxmasterrace', 'FL_Studio', 'trapproduction', 'archlinux']\n\n"
     ]
    }
   ],
   "source": [
    "compare_recommendation_and_interaction(user_ids[4])"
   ]
  },
  {
   "cell_type": "code",
   "execution_count": 86,
   "metadata": {},
   "outputs": [
    {
     "output_type": "stream",
     "name": "stdout",
     "text": [
      "user: phillyphillster34\ncommented on ['Smite' 'TechNewsToday' 'Windows10' 'microgrowery' 'windows']\nrecommended ['sysadmin', 'feedthebeast', 'homelab', 'typography', 'DataHoarder']\n\n"
     ]
    }
   ],
   "source": [
    "compare_recommendation_and_interaction(user_ids[5])"
   ]
  },
  {
   "cell_type": "code",
   "execution_count": 87,
   "metadata": {},
   "outputs": [
    {
     "output_type": "stream",
     "name": "stdout",
     "text": [
      "user: TextMekks\ncommented on ['AskEngineers' 'MortalKombat' 'pussypassdenied']\nrecommended ['engineering', 'EngineeringStudents', 'careerguidance', 'ActualPublicFreakouts', 'ThatLookedExpensive']\n\n"
     ]
    }
   ],
   "source": [
    "compare_recommendation_and_interaction(user_ids[10])"
   ]
  },
  {
   "cell_type": "code",
   "execution_count": 88,
   "metadata": {},
   "outputs": [
    {
     "output_type": "stream",
     "name": "stdout",
     "text": [
      "user: SirKronik\ncommented on ['2007scape' 'MMORPG' 'SquaredCircle']\nrecommended ['ffxiv', 'hometheater', 'runescape', 'Guildwars2', 'chicago']\n\n"
     ]
    }
   ],
   "source": [
    "compare_recommendation_and_interaction(user_ids[110])"
   ]
  },
  {
   "cell_type": "code",
   "execution_count": 89,
   "metadata": {},
   "outputs": [
    {
     "output_type": "stream",
     "name": "stdout",
     "text": [
      "user: waywardhero\ncommented on ['PoliticalCompassMemes' 'knives' 'roosterteeth']\nrecommended ['EDC', 'FallGuysGame', 'guns', 'ffxiv', 'masseffect']\n\n"
     ]
    }
   ],
   "source": [
    "compare_recommendation_and_interaction(user_ids[1000])"
   ]
  },
  {
   "cell_type": "code",
   "execution_count": 90,
   "metadata": {},
   "outputs": [
    {
     "output_type": "stream",
     "name": "stdout",
     "text": [
      "user: xenaprincesswarlord\n",
      "commented on ['HowToHack' 'TechNewsToday' 'UKPersonalFinance' 'learnpython']\n",
      "recommended ['feedthebeast', 'cybersecurity', 'datascience', 'finance', 'web_design']\n",
      "\n",
      "user: SweeTLemonS_TPR\n",
      "commented on ['Coffee' 'LeopardsAteMyFace' 'Rabbits' 'cscareerquestions'\n",
      " 'cybersecurity' 'learnpython']\n",
      "recommended ['tea', 'philadelphia', 'HowToHack', 'finance', 'whiskey']\n",
      "\n",
      "user: MeanTemperature\n",
      "commented on ['ich_iel' 'learnpython' 'productivity']\n",
      "recommended ['selfimprovement', 'de', 'webdev', 'web_design', 'startups']\n",
      "\n",
      "user: wsppan\n",
      "commented on ['The_Mueller' 'computerscience' 'learnpython']\n",
      "recommended ['cscareerquestions', 'feedthebeast', 'Fuckthealtright', 'HomeNetworking', 'HalfLife']\n",
      "\n",
      "user: funKmaster_tittyBoi\n",
      "commented on ['TheRightCantMeme' 'learnpython' 'sanfrancisco']\n",
      "recommended ['bayarea', 'finance', 'datascience', 'CrackheadCraigslist', 'askgaybros']\n",
      "\n",
      "user: Doormatty\n",
      "commented on ['arduino' 'learnpython' 'vancouver']\n",
      "recommended ['techsupportgore', 'PersonalFinanceCanada', 'gamedev', 'cycling', 'HowToHack']\n",
      "\n",
      "user: sultav\n",
      "commented on ['HongKong' 'cycling' 'languagelearning' 'learnpython']\n",
      "recommended ['japan', 'japanlife', 'ireland', 'LearnJapanese', 'geopolitics']\n",
      "\n",
      "user: tipsy_python\n",
      "commented on ['bourbon' 'learnpython' 'whiskey']\n",
      "recommended ['cocktails', 'CODWarzone', 'Coffee', 'vinyl', 'oneplus']\n",
      "\n",
      "user: hotlinehelpbot\n",
      "commented on ['AMA' 'Advice' 'ApplyingToCollege' 'AskDocs' 'IllegalLifeProTips'\n",
      " 'Meditation' 'Psychonaut' 'RedDeadOnline' 'Smite' 'SquaredCircle'\n",
      " 'Teachers' 'UnsentLetters' 'feedthebeast' 'formuladank' 'internetparents'\n",
      " 'japan' 'learnpython' 'mentalhealth' 'shortscarystories' 'socialanxiety']\n",
      "recommended ['college', 'selfimprovement', 'afkarena', 'WouldYouRather', 'offbeat']\n",
      "\n",
      "user: cicadam\n",
      "commented on ['askgaybros' 'datascience' 'learnpython']\n",
      "recommended ['cscareerquestions', 'gaybros', 'HowToHack', 'gay', 'excel']\n",
      "\n",
      "user: Cuntable\n",
      "commented on ['PropagandaPosters' 'de' 'feedthebeast' 'learnpython']\n",
      "recommended ['ich_iel', 'ireland', 'HowToHack', 'AskEurope', 'cybersecurity']\n",
      "\n",
      "user: MrBlobbyDog\n",
      "commented on ['MilitaryPorn' 'PokemonGoFriends' 'UnsentLetters' 'booksuggestions'\n",
      " 'borderlands3' 'learnpython']\n",
      "recommended ['Borderlands', 'Advice', 'TheSilphRoad', 'Borderlands2', 'MonsterHunterWorld']\n",
      "\n",
      "user: K900_\n",
      "commented on ['archlinux' 'learnpython' 'linux']\n",
      "recommended ['linuxquestions', 'linuxmasterrace', 'linux4noobs', 'Ubuntu', 'linux_gaming']\n",
      "\n",
      "user: FakespotAnalysisBot\n",
      "commented on ['3Dprinting' 'ABraThatFits' 'AstralProjection' 'HomeNetworking'\n",
      " 'MechanicAdvice' 'OculusQuest' 'PS4Deals' 'PSVR' 'Scams' 'airsoft'\n",
      " 'archlinux' 'audioengineering' 'booksuggestions' 'buildapcforme'\n",
      " 'crochet' 'deals' 'edmproduction' 'houseplants' 'knitting' 'learnpython'\n",
      " 'malehairadvice' 'realestateinvesting' 'simracing' 'vinyl']\n",
      "recommended ['virtualreality', 'oculus', 'sewing', 'synthesizers', 'hardwareswap']\n",
      "\n",
      "user: monstimal\n",
      "commented on ['architecture' 'finance' 'learnpython']\n",
      "recommended ['bayarea', 'TechNewsToday', 'California', 'Military', 'datascience']\n",
      "\n",
      "user: zanfar\n",
      "commented on ['HomeNetworking' 'LeopardsAteMyFace' 'iiiiiiitttttttttttt' 'learnpython']\n",
      "recommended ['sysadmin', 'techsupportgore', 'linuxmasterrace', 'cybersecurity', 'archlinux']\n",
      "\n",
      "user: GorboducRex\n",
      "commented on ['Ubuntu' 'chromeos' 'learnpython']\n",
      "recommended ['linuxquestions', 'linux', 'archlinux', 'linuxmasterrace', 'linux4noobs']\n",
      "\n",
      "user: cyberrumor\n",
      "commented on ['HowToHack' 'archlinux' 'learnpython' 'linuxmasterrace']\n",
      "recommended ['linuxquestions', 'linux', 'linux4noobs', 'Ubuntu', 'linux_gaming']\n",
      "\n",
      "user: Monovon\n",
      "commented on ['SuicideWatch' 'chelseafc' 'learnpython']\n",
      "recommended ['FantasyPL', 'FIFA', 'crossfit', 'bourbon', 'Gunners']\n",
      "\n"
     ]
    }
   ],
   "source": [
    "# compare_recommendation_and_interaction('10rndb')\n",
    "compare_recommendation_and_interaction(list(np.unique(df[df['subreddit_id']=='learnpython']['user_id'])))"
   ]
  }
 ]
}