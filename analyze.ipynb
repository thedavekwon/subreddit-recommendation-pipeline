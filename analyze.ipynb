{
 "metadata": {
  "language_info": {
   "codemirror_mode": {
    "name": "ipython",
    "version": 3
   },
   "file_extension": ".py",
   "mimetype": "text/x-python",
   "name": "python",
   "nbconvert_exporter": "python",
   "pygments_lexer": "ipython3",
   "version": "3.6.9-final"
  },
  "orig_nbformat": 2,
  "kernelspec": {
   "name": "python3",
   "display_name": "Python 3.6.9 64-bit ('venv')",
   "metadata": {
    "interpreter": {
     "hash": "cdee320d0c523a073660c1d36ddb2c472f31732f5be617c276c68b6872129114"
    }
   }
  }
 },
 "nbformat": 4,
 "nbformat_minor": 2,
 "cells": [
  {
   "cell_type": "code",
   "execution_count": 17,
   "metadata": {},
   "outputs": [],
   "source": [
    "import redis\n",
    "import configparser\n",
    "import numpy as np\n",
    "import pandas as pd\n",
    "import tasks.models as m\n",
    "\n",
    "from sqlalchemy import create_engine, func, distinct\n",
    "from sqlalchemy.orm import Session\n",
    "from sqlalchemy import tuple_"
   ]
  },
  {
   "cell_type": "code",
   "execution_count": 18,
   "metadata": {},
   "outputs": [],
   "source": [
    "# Get Config\n",
    "config = configparser.ConfigParser()\n",
    "config.read(\"config/config.ini\")\n",
    "\n",
    "# Create SQLAlchemy Session\n",
    "engine = create_engine(config[\"DB\"].get(\"db_url\"))\n",
    "session = Session(engine)\n",
    "\n",
    "# Create Redis Client\n",
    "r = redis.Redis(\n",
    "    host=config[\"REDIS\"].get(\"host\"),\n",
    "    port=config[\"REDIS\"].get(\"port\"),\n",
    "    db=config[\"REDIS\"].get(\"db\"),\n",
    ")"
   ]
  },
  {
   "cell_type": "code",
   "execution_count": 19,
   "metadata": {},
   "outputs": [],
   "source": [
    "# Get users who commented on more than two different subreddits\n",
    "s = (\n",
    "    session.query(m.Redditor_Subreddit_Comment.redditor_id)\n",
    "    .group_by(m.Redditor_Subreddit_Comment.redditor_id)\n",
    "    .having(func.count(m.Redditor_Subreddit_Comment.subreddit_id.distinct()) > 2)\n",
    "    .subquery()\n",
    ")\n",
    "redditor_subreddit_comment = np.array(\n",
    "    session.query(\n",
    "        m.Redditor_Subreddit_Comment.redditor_id, m.Subreddit.name, m.Redditor.name\n",
    "    )\n",
    "    .distinct(m.Redditor_Subreddit_Comment.redditor_id, m.Subreddit.name)\n",
    "    .filter(m.Redditor_Subreddit_Comment.redditor_id.in_(s))\n",
    "    .join(m.Subreddit, m.Redditor_Subreddit_Comment.subreddit_id == m.Subreddit.id)\n",
    "    .join(m.Redditor, m.Redditor_Subreddit_Comment.redditor_id == m.Redditor.id)\n",
    "    .all()\n",
    ").T\n",
    "df = pd.DataFrame(\n",
    "    {\n",
    "        \"user_id\": redditor_subreddit_comment[0],\n",
    "        \"subreddit_id\": redditor_subreddit_comment[1],\n",
    "        \"username\": redditor_subreddit_comment[2],\n",
    "    }\n",
    ")"
   ]
  },
  {
   "cell_type": "code",
   "execution_count": 20,
   "metadata": {},
   "outputs": [],
   "source": [
    "user_ids = np.unique(df['user_id'])"
   ]
  },
  {
   "cell_type": "code",
   "execution_count": 21,
   "metadata": {},
   "outputs": [],
   "source": [
    "def compare_recommendation_and_interaction(user_id):\n",
    "    if type(user_id) != list:\n",
    "        user_id = [user_id]\n",
    "    for u in user_id:\n",
    "        print(f\"user: {df[df['user_id']==u]['username'].iloc[0]}\") \n",
    "        print(f\"commented on {np.unique(df[df['user_id']==u]['subreddit_id'])}\")\n",
    "        print(f\"recommended {list(map(lambda x: x.decode(), r.lrange(u, 0, -1)))}\")\n",
    "        print(\"\")\n"
   ]
  },
  {
   "cell_type": "code",
   "execution_count": 22,
   "metadata": {},
   "outputs": [
    {
     "output_type": "stream",
     "name": "stdout",
     "text": [
      "user: arq25\ncommented on ['StockMarket' 'sysadmin' 'whiskey']\nrecommended ['pennystocks', 'bourbon', 'RobinHoodPennyStocks', 'options', 'Daytrading']\n\n"
     ]
    }
   ],
   "source": [
    "compare_recommendation_and_interaction(user_ids[0])"
   ]
  },
  {
   "cell_type": "code",
   "execution_count": 23,
   "metadata": {},
   "outputs": [
    {
     "output_type": "stream",
     "name": "stdout",
     "text": [
      "user: ac13332\ncommented on ['AskUK' 'britishproblems' 'golf']\nrecommended ['CasualUK', 'unitedkingdom', 'ukpolitics', 'london', 'UKPersonalFinance']\n\n"
     ]
    }
   ],
   "source": [
    "compare_recommendation_and_interaction(user_ids[1])"
   ]
  },
  {
   "cell_type": "code",
   "execution_count": 24,
   "metadata": {},
   "outputs": [
    {
     "output_type": "stream",
     "name": "stdout",
     "text": [
      "user: ZetTheLegendaryHero\ncommented on ['DCcomics' 'Doom' 'batman' 'goodanimemes']\nrecommended ['DC_Cinematic', 'Spiderman', 'SpidermanPS4', 'raimimemes', 'starwarsmemes']\n\n"
     ]
    }
   ],
   "source": [
    "compare_recommendation_and_interaction(user_ids[2])"
   ]
  },
  {
   "cell_type": "code",
   "execution_count": 25,
   "metadata": {},
   "outputs": [
    {
     "output_type": "stream",
     "name": "stdout",
     "text": [
      "user: M6D_Magnum\ncommented on ['MilitaryPorn' 'assassinscreed' 'gundeals' 'guns']\nrecommended ['ar15', 'GunPorn', 'progun', 'EDC', 'knives']\n\n"
     ]
    }
   ],
   "source": [
    "compare_recommendation_and_interaction(user_ids[3])"
   ]
  },
  {
   "cell_type": "code",
   "execution_count": 26,
   "metadata": {},
   "outputs": [
    {
     "output_type": "stream",
     "name": "stdout",
     "text": [
      "user: Eggith\n",
      "commented on ['askgaybros' 'dbz' 'tf2']\n",
      "recommended ['gay', 'gaybros', 'gay_irl', 'DBZDokkanBattle', 'gaymers']\n",
      "\n"
     ]
    }
   ],
   "source": [
    "compare_recommendation_and_interaction(user_ids[4])"
   ]
  },
  {
   "cell_type": "code",
   "execution_count": 27,
   "metadata": {},
   "outputs": [
    {
     "output_type": "stream",
     "name": "stdout",
     "text": [
      "user: Awesomefoxhound\ncommented on ['eu4' 'reddeadredemption2' 'selfimprovement']\nrecommended ['hoi4', 'CrusaderKings', 'RedDeadOnline', 'DecidingToBeBetter', 'imaginarymaps']\n\n"
     ]
    }
   ],
   "source": [
    "compare_recommendation_and_interaction(user_ids[5])"
   ]
  },
  {
   "cell_type": "code",
   "execution_count": 28,
   "metadata": {},
   "outputs": [
    {
     "output_type": "stream",
     "name": "stdout",
     "text": [
      "user: walnoter\ncommented on ['animememes' 'dndmemes' 'furry']\nrecommended ['wholesomeanimemes', 'goodanimemes', 'Konosuba', 'awwnime', 'MemeTemplatesOfficial']\n\n"
     ]
    }
   ],
   "source": [
    "compare_recommendation_and_interaction(user_ids[10])"
   ]
  },
  {
   "cell_type": "code",
   "execution_count": 29,
   "metadata": {},
   "outputs": [
    {
     "output_type": "stream",
     "name": "stdout",
     "text": [
      "user: los33ramos\ncommented on ['LosAngeles' 'PS5' 'playstation']\nrecommended ['lakers', 'PS4Deals', 'XboxSeriesX', 'xbox', 'PlayStationPlus']\n\n"
     ]
    }
   ],
   "source": [
    "compare_recommendation_and_interaction(user_ids[110])"
   ]
  },
  {
   "cell_type": "code",
   "execution_count": 30,
   "metadata": {},
   "outputs": [
    {
     "output_type": "stream",
     "name": "stdout",
     "text": [
      "user: SinfullySinless\ncommented on ['AskAnAmerican' 'BeautyGuruChatter' 'IllegallySmolCats'\n 'LeopardsAteMyFace' 'Teachers' 'TheRightCantMeme' 'fatlogic'\n 'notliketheothergirls' 'thesims']\nrecommended ['Sims4', 'Makeup', 'rupaulsdragrace', '90DayFiance', 'TumblrInAction']\n\n"
     ]
    }
   ],
   "source": [
    "compare_recommendation_and_interaction(user_ids[1000])"
   ]
  },
  {
   "cell_type": "code",
   "execution_count": 31,
   "metadata": {
    "tags": []
   },
   "outputs": [],
   "source": [
    "# compare_recommendation_and_interaction('10rndb')\n",
    "# compare_recommendation_and_interaction(list(np.unique(df[df['subreddit_id']=='learnpython']['user_id'])))"
   ]
  }
 ]
}